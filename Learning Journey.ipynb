{
 "cells": [
  {
   "cell_type": "markdown",
   "metadata": {},
   "source": [
    "# Coding Journey of Non-Technical Girl From Nepal\n",
    "This is the repository where I intend to write my progress throughout learning Python Programming Language and Data Science field. I am compeletly new to even a HTML and I am on complete delimma what to do and what not. But I made a decision that I am not going to do my Masters on Mathematics. I will try to write what I learned on each day and If possible I will include the links to reference.\n",
    "\n",
    "## Contents\n",
    "* [December 2020](#December-2020)\n",
    "* [January 2021](#January-2021)\n",
    "* [February 2021](#February-2021)\n",
    "\n",
    "Day starts with December 10 2020.\n",
    "\n",
    "## December 2020\n",
    "\n",
    "| Day          | What I learned | Where I Learned | Hours I Spent | Reference Links | Remarks |\n",
    "|-----------------|----------------|---------------|------|---------------|-----------|\n",
    "| December 10 2020  |Introduction to Python, Introduction to HTML            |  Coursera, Freecodecamp            |3    |    None         |   Python is like Human Language.      |\n",
    "| December 11 2020 | Python Dictionary             | Youtube             | 3    | None             | None        |\n",
    "| December 12 2020                |Conversion from Decimal to Binary                |With friend               | 4     |  None             |           |\n",
    "|December 13 2020                 |Class in python, Conversion from other number system to Binary in python               |Coursera, Friend               |7      |None               |           |\n",
    "|December 14 2020                 | Conversion from Binary to Decimal in python               | Youtube              | 1     |               |pop() is used for removes and return last value from the list.\n",
    "|December 15 2020                 | Function in python , Some concept of HTML              | Notecopy, Freecodecamp             | 6    |  None             |None\n",
    "|December 16 2020                 | HTML , Some concept on python              | Notecopy, Freecodecamp , Textbook             | 7    |  None             |None\n",
    "|December 17 2020                 |Function on python, Some other concept on python , Code on logical gate, Blog on python              | Notecopy, W3school , Textbook ,friend            | 10    |  None             |None\n",
    "|December 18 2020                 | Some  basic concept on python, Somecode on python              | Notecopy, W3school , Textbook            | 5   |  None             |None\n",
    "|December 19 2020    |Sets in python, Dictionary in python, if..else ,While loop in python, function in python, lambda in python, Array in python, Class/object, Pythoninheritance, Python iteration, python scope                         | W3school            | 5   |  None             |None\n",
    "|December 20 2020                 |Nothing              | Nothing          | ...    |  None             |None\n",
    "|December 21 2020                 |Python code to find  Grade of students, Code to add, sub, mul, div, mod, exp in same code,Python code to find the LCF of number, python code for Electric Bill, Python code to find the sum of cube series,Code for Multiplication table, Code to find factors and prime factors of number              | Tutorial Gateway          | 9    |  www.tutorialgateway.org            |None\n",
    "| December 22 2020                |Map,Reduce, Zip, Lambda, Enumerate, Join, Iter, Generater, Python code to find simple intrest                |Tutorial Gateway                | 4     | www.tutorialgateway.org              | None          |\n",
    "| December 23 2020                |Python for Everybody               |Coursera              | 6     |  None             | None          |\n",
    "| December 24 2020                |Python for Everybody, Python Data structure               |Coursera              | 6    |  None             | Coursera online course          |\n",
    "| December 25 2020                |HTML, Python Data structure               |Coursera, Freecodecamp              | 8    |  None             | Coursera online course          |\n",
    "| December 26 2020                |Python Data structure, Some code in python               |Coursera            | 1   |  None             | Coursera online course          |\n",
    "| December 27 2020                |Python Data structure, HTML              |Coursera, Freecodecamp           | 5   |  None             | Coursera online course          |\n",
    "| December 28 2020                |Python Data structure, HTML              |Coursera, Freecodecamp           | 4   |  None             | Coursera online course          |\n",
    "| December 29 2020                |Python Data structure              |Coursera           | 2   |  None             | Coursera online course          |\n",
    "| December 30 2020  |Python Data structure, HTML            |  Coursera, Freecodecamp            |2    |    None         |   None      |\n",
    "| December 31 2020  |Basic css          |   Freecodecamp            |5    |    None         |   None      |\n",
    "\n",
    "## January 2021\n",
    "\n",
    "| Day          | What I learned | Where I Learned | Hours I Spent | Reference Links | Remarks |\n",
    "|-----------------|----------------|---------------|------|---------------|-----------|\n",
    "| January 1 2021  | Database on Python, Basic CSS,Some challenges            |  Coursera, Freecodecamp            |7    |    None         |   Python is like Human Language.      |\n",
    "| January 2 2021 | Basic css, some challenges, Python code             | HTML, Friend             | 5  | None             | None        |\n",
    "| January 3 2021                |Databse on python, CSS , Some challanges                |Coursera, Freecodecamp               | 4     |  None             |           |\n",
    "|January 4 2021                 |More properties of CSS            |Freecodecamp              |4   |None               |   None        |          |\n",
    "|January 8 2021                 |More properties of CSS, Python acess to web data            |Freecodecamp, Coursera              |4   |None               |   None        |          |\n",
    "|January 6 2021                 |More properties of CSS, Python access to web data            |[Freecodecamp](https://www.freecodecamp.org/learn/responsive-web-design/applied-accessibility/add-an-accessible-date-picker), [Coursera](https://www.coursera.org/learn/python-network-data/gradedLti/mEdBo/extracting-data-with-regular-expressions)              |5  |None               |   None        |          |\n",
    "|January 7 2021                 |More properties of CSS, Python access to web data, Some mathematical problem on python            |[Freecodecamp](https://www.freecodecamp.org/learn/responsive-web-design/responsive-web-design-principles/), [Coursera ](https://www.coursera.org/learn/python-network-data/lecture/MbRIS/12-3-unicode-characters-and-strings)            |7  |None               |   None        |          |\n",
    "|January 5 2021                 |More properties of CSS            |Freecodecamp              |4   |None               |   None        |          |\n",
    "|January 9 2021                 |Attempt first challenge on Adventofcode ,Python access to web data          |[Adventofcode](https://adventofcode.com/2020/day/1), Coursera            |6 |None               |   None        |          |\n",
    "|January 10 2021                 |More properties of CSS, Python access to web data           |Freecodecamp ,coursera             |4   |None               |   None        |   \n",
    "|January 11 2021                 |More properties of CSS, Python access to web data, Completed day2 challenge            |Freecodecamp ,coursera ,advent of code            |6  | [Freecodecamp], [Coursera ], [Adventofcode]             |   None        |   \n",
    "|January 12 2021                 |Python access to            |Freecodecamp              |4   |None               |   None        |          |\n",
    "|January 13 2021                 |Regular expression, class in python            |coursera, friend, Google             |5  |None               |   None        |\n",
    "|January 14 2021                 |Regular expression, class in python, HTML            |Coursera, friend, Google ,Freecodecamp            |6 |None               |   None        |\n",
    "|January 15 2021                 |Revised Programming for everybody, HTML            |Coursera, friend, Google ,Freecodecamp            |3 |None               |   None        |\n",
    "|January 16 2021                 |Python basic, HTML            |Coursera, friend, Google ,Freecodecamp            |3 |None               |   None        |\n",
    "|January 17 2021                 |Python basic           | friend, Google            |2|None               |   None        |\n",
    "|January 18 2021                 |Python decorators           | friend, Google            |1|(https://www.programiz.com/python-programming/decorator)              |   None        |\n",
    "|January 19 2021                 |Class Inheritance, Python basic           | friend, Google            |5| None              |   None        |\n",
    "|January 20 2021                 |Class Inheritance, Python database         | friend, Google,Coursera            |7| (https://www.coursera.org/learn/python-databases/resources/50VNs)              |   None        |\n",
    "|January 21 2021                 |Database on python           | Coursera           |5| [coursera](https://www.coursera.org/learn/python-databases/home/welcome)               |   None        |\n",
    "\n",
    "## February 2021\n",
    "\n",
    "| Day          | What I learned | Where I Learned | Hours I Spent | Reference Links | Remarks |\n",
    "|-----------------|----------------|---------------|------|---------------|-----------|\n",
    "| December 10 2020  |Introduction to Python, Introduction to HTML            |  Coursera, Freecodecamp            |3    |    None         |   Python is like Human Language.      |\n",
    "| December 11 2020 | Python Dictionary             | Youtube             | 3    | None             | None        |\n",
    "| December 12 2020                |Conversion from Decimal to Binary                |With friend               | 4     |  None             | None          |\n",
    "|December 13 2020                 |HTML,Some Basic concept in python form text book                |Courser, Friend               |7      |Pythonlearn.PDF              | None          |"
   ]
  },
  {
   "cell_type": "markdown",
   "metadata": {},
   "source": []
  }
 ],
 "metadata": {
  "kernelspec": {
   "display_name": "Python 3",
   "language": "python",
   "name": "python3"
  },
  "language_info": {
   "codemirror_mode": {
    "name": "ipython",
    "version": 3
   },
   "file_extension": ".py",
   "mimetype": "text/x-python",
   "name": "python",
   "nbconvert_exporter": "python",
   "pygments_lexer": "ipython3",
   "version": "3.7.3"
  },
  "latex_envs": {
   "LaTeX_envs_menu_present": true,
   "autoclose": false,
   "autocomplete": true,
   "bibliofile": "biblio.bib",
   "cite_by": "apalike",
   "current_citInitial": 1,
   "eqLabelWithNumbers": true,
   "eqNumInitial": 1,
   "hotkeys": {
    "equation": "Ctrl-E",
    "itemize": "Ctrl-I"
   },
   "labels_anchors": false,
   "latex_user_defs": false,
   "report_style_numbering": false,
   "user_envs_cfg": false
  },
  "nbTranslate": {
   "displayLangs": [
    "*"
   ],
   "hotkey": "alt-t",
   "langInMainMenu": true,
   "sourceLang": "en",
   "targetLang": "fr",
   "useGoogleTranslate": true
  },
  "toc": {
   "base_numbering": 1,
   "nav_menu": {},
   "number_sections": true,
   "sideBar": true,
   "skip_h1_title": false,
   "title_cell": "Table of Contents",
   "title_sidebar": "Contents",
   "toc_cell": false,
   "toc_position": {},
   "toc_section_display": true,
   "toc_window_display": false
  }
 },
 "nbformat": 4,
 "nbformat_minor": 2
}
